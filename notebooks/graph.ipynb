{
 "cells": [
  {
   "cell_type": "code",
   "execution_count": 2,
   "metadata": {},
   "outputs": [
    {
     "data": {
      "application/vnd.plotly.v1+json": {
       "config": {
        "plotlyServerURL": "https://plot.ly"
       },
       "data": [
        {
         "marker": {
          "size": [
           8425,
           12044,
           46886,
           4693,
           20092,
           91825
          ],
          "sizemode": "area",
          "sizeref": 200
         },
         "mode": "markers",
         "name": "Delhi",
         "text": [
          "BKG",
          "AGD",
          "EXP",
          "OYO",
          "YTR",
          "CTP"
         ],
         "type": "scatter",
         "x": [
          29,
          51,
          37,
          39,
          36,
          36
         ],
         "y": [
          779,
          9867,
          684,
          368,
          331,
          546
         ]
        },
        {
         "marker": {
          "size": [
           12826,
           6927,
           87304,
           2791,
           7274
          ],
          "sizemode": "area",
          "sizeref": 200
         },
         "mode": "markers",
         "name": "Mumbai",
         "text": [
          "BKG",
          "AGD",
          "EXP",
          "YTR",
          "CTP"
         ],
         "type": "scatter",
         "x": [
          55,
          67,
          68,
          54,
          60
         ],
         "y": [
          1601,
          6137,
          8343,
          974,
          2444
         ]
        },
        {
         "marker": {
          "size": [
           92795,
           42320,
           17383,
           4423,
           4469,
           1291
          ],
          "sizemode": "area",
          "sizeref": 200
         },
         "mode": "markers",
         "name": "Banglore",
         "text": [
          "BKG",
          "EXP",
          "AGD",
          "YTR",
          "CTP",
          "OYO"
         ],
         "type": "scatter",
         "x": [
          43,
          30,
          38,
          48,
          32,
          35
         ],
         "y": [
          2449,
          3520,
          1063,
          851,
          543,
          1071
         ]
        },
        {
         "marker": {
          "size": [
           17876,
           2883,
           56602,
           14785,
           6377,
           12350
          ],
          "sizemode": "area",
          "sizeref": 200
         },
         "mode": "markers",
         "name": "Agra",
         "text": [
          "BKG",
          "EXP",
          "AGD",
          "YTR",
          "CTP",
          "OYO"
         ],
         "type": "scatter",
         "x": [
          62,
          40,
          51,
          69,
          55,
          51
         ],
         "y": [
          5911,
          2677,
          2109,
          11367,
          3940,
          2144
         ]
        }
       ],
       "frames": [
        {
         "data": [
          {
           "marker": {
            "size": [
             31889,
             70857,
             15044,
             14131,
             47761,
             28901
            ],
            "sizemode": "area",
            "sizeref": 200
           },
           "mode": "markers",
           "name": "Delhi",
           "text": [
            "BKG",
            "AGD",
            "EXP",
            "OYO",
            "YTR",
            "CTP"
           ],
           "type": "scatter",
           "x": [
            44,
            76,
            64,
            60,
            62,
            64
           ],
           "y": [
            974,
            29796,
            1391,
            1714,
            944,
            1091
           ]
          },
          {
           "marker": {
            "size": [
             36005,
             81583,
             10392,
             45521,
             73228
            ],
            "sizemode": "area",
            "sizeref": 200
           },
           "mode": "markers",
           "name": "Mumbai",
           "text": [
            "BKG",
            "AGD",
            "EXP",
            "YTR",
            "CTP"
           ],
           "type": "scatter",
           "x": [
            76,
            80,
            79,
            75,
            73
           ],
           "y": [
            5937,
            36126,
            33693,
            7446,
            10681
           ]
          },
          {
           "marker": {
            "size": [
             33333,
             12420,
             8078,
             16391,
             14326,
             4369
            ],
            "sizemode": "area",
            "sizeref": 200
           },
           "mode": "markers",
           "name": "Banglore",
           "text": [
            "BKG",
            "EXP",
            "AGD",
            "YTR",
            "CTP",
            "OYO"
           ],
           "type": "scatter",
           "x": [
            72,
            43,
            57,
            51,
            52,
            45
           ],
           "y": [
            6223,
            4797,
            1441,
            12570,
            1217,
            706
           ]
          },
          {
           "marker": {
            "size": [
             40301,
             9119,
             19001,
             33390,
             16284,
             44227
            ],
            "sizemode": "area",
            "sizeref": 200
           },
           "mode": "markers",
           "name": "Agra",
           "text": [
            "BKG",
            "EXP",
            "AGD",
            "YTR",
            "CTP",
            "OYO"
           ],
           "type": "scatter",
           "x": [
            75,
            66,
            72,
            81,
            79,
            73
           ],
           "y": [
            12779,
            3822,
            9066,
            36319,
            13172,
            7007
           ]
          }
         ],
         "name": "17"
        },
        {
         "data": [
          {
           "marker": {
            "size": [
             25268,
             65639,
             13565,
             12926,
             45598,
             25873
            ],
            "sizemode": "area",
            "sizeref": 200
           },
           "mode": "markers",
           "name": "Delhi",
           "text": [
            "BKG",
            "AGD",
            "EXP",
            "OYO",
            "YTR",
            "CTP"
           ],
           "type": "scatter",
           "x": [
            42,
            75,
            62,
            57,
            60,
            61
           ],
           "y": [
            726,
            23404,
            1136,
            896,
            611,
            1057
           ]
          },
          {
           "marker": {
            "size": [
             35085,
             81483,
             10311,
             41654,
             7661
            ],
            "sizemode": "area",
            "sizeref": 200
           },
           "mode": "markers",
           "name": "Mumbai",
           "text": [
            "BKG",
            "AGD",
            "EXP",
            "YTR",
            "CTP"
           ],
           "type": "scatter",
           "x": [
            76,
            79,
            78,
            74,
            72
           ],
           "y": [
            4604,
            32418,
            30486,
            6019,
            7697
           ]
          },
          {
           "marker": {
            "size": [
             31287,
             10866,
             7026,
             16303,
             12251,
             4048
            ],
            "sizemode": "area",
            "sizeref": 200
           },
           "mode": "markers",
           "name": "Banglore",
           "text": [
            "BKG",
            "EXP",
            "AGD",
            "YTR",
            "CTP",
            "OYO"
           ],
           "type": "scatter",
           "x": [
            71,
            41,
            54,
            47,
            51,
            43
           ],
           "y": [
            5288,
            2773,
            1373,
            11004,
            1038,
            739
           ]
          },
          {
           "marker": {
            "size": [
             38331,
             8445,
             17991,
             31902,
             15497,
             41008
            ],
            "sizemode": "area",
            "sizeref": 200
           },
           "mode": "markers",
           "name": "Agra",
           "text": [
            "BKG",
            "EXP",
            "AGD",
            "YTR",
            "CTP",
            "OYO"
           ],
           "type": "scatter",
           "x": [
            74,
            64,
            71,
            80,
            78,
            72
           ],
           "y": [
            8798,
            3413,
            8131,
            33329,
            10779,
            5755
           ]
          }
         ],
         "name": "16"
        },
        {
         "data": [
          {
           "marker": {
            "size": [
             22227,
             59856,
             12331,
             11782,
             43247,
             2300
            ],
            "sizemode": "area",
            "sizeref": 200
           },
           "mode": "markers",
           "name": "Delhi",
           "text": [
            "BKG",
            "AGD",
            "EXP",
            "OYO",
            "YTR",
            "CTP"
           ],
           "type": "scatter",
           "x": [
            42,
            74,
            59,
            57,
            60,
            59
           ],
           "y": [
            635,
            20292,
            973,
            734,
            415,
            1011
           ]
          },
          {
           "marker": {
            "size": [
             34280,
             80698,
             10158,
             36070,
             8066
            ],
            "sizemode": "area",
            "sizeref": 200
           },
           "mode": "markers",
           "name": "Mumbai",
           "text": [
            "BKG",
            "AGD",
            "EXP",
            "YTR",
            "CTP"
           ],
           "type": "scatter",
           "x": [
            73,
            78,
            78,
            73,
            70
           ],
           "y": [
            3193,
            29096,
            27561,
            4766,
            5970
           ]
          },
          {
           "marker": {
            "size": [
             29072,
             98750,
             6066,
             15365,
             10352,
             3696
            ],
            "sizemode": "area",
            "sizeref": 200
           },
           "mode": "markers",
           "name": "Banglore",
           "text": [
            "BKG",
            "EXP",
            "AGD",
            "YTR",
            "CTP",
            "OYO"
           ],
           "type": "scatter",
           "x": [
            69,
            41,
            55,
            53,
            50,
            46
           ],
           "y": [
            4797,
            2277,
            1233,
            8647,
            946,
            741
           ]
          },
          {
           "marker": {
            "size": [
             36203,
             7693,
             16854,
             30305,
             14599,
             37657
            ],
            "sizemode": "area",
            "sizeref": 200
           },
           "mode": "markers",
           "name": "Agra",
           "text": [
            "BKG",
            "EXP",
            "AGD",
            "YTR",
            "CTP",
            "OYO"
           ],
           "type": "scatter",
           "x": [
            73,
            62,
            69,
            79,
            76,
            70
           ],
           "y": [
            10967,
            3326,
            7958,
            28955,
            10118,
            6117
           ]
          }
         ],
         "name": "15"
        },
        {
         "data": [
          {
           "marker": {
            "size": [
             16317,
             52949,
             11370,
             10150,
             40546,
             2032
            ],
            "sizemode": "area",
            "sizeref": 200
           },
           "mode": "markers",
           "name": "Delhi",
           "text": [
            "BKG",
            "AGD",
            "EXP",
            "OYO",
            "YTR",
            "CTP"
           ],
           "type": "scatter",
           "x": [
            42,
            73,
            56,
            56,
            59,
            56
           ],
           "y": [
            649,
            19036,
            838,
            682,
            347,
            898
           ]
          },
          {
           "marker": {
            "size": [
             33264,
             79149,
             10045,
             4256,
             8658
            ],
            "sizemode": "area",
            "sizeref": 200
           },
           "mode": "markers",
           "name": "Mumbai",
           "text": [
            "BKG",
            "AGD",
            "EXP",
            "YTR",
            "CTP"
           ],
           "type": "scatter",
           "x": [
            72,
            76,
            76,
            72,
            71
           ],
           "y": [
            2497,
            27042,
            25576,
            2547,
            6303
           ]
          },
          {
           "marker": {
            "size": [
             26298,
             87359,
             4981,
             13426,
             8878,
             3265
            ],
            "sizemode": "area",
            "sizeref": 200
           },
           "mode": "markers",
           "name": "Banglore",
           "text": [
            "BKG",
            "EXP",
            "AGD",
            "YTR",
            "CTP",
            "OYO"
           ],
           "type": "scatter",
           "x": [
            68,
            41,
            54,
            63,
            50,
            49
           ],
           "y": [
            5023,
            2627,
            1191,
            7954,
            932,
            748
           ]
          },
          {
           "marker": {
            "size": [
             33958,
             6893,
             15597,
             28523,
             13572,
             34202
            ],
            "sizemode": "area",
            "sizeref": 200
           },
           "mode": "markers",
           "name": "Agra",
           "text": [
            "BKG",
            "EXP",
            "AGD",
            "YTR",
            "CTP",
            "OYO"
           ],
           "type": "scatter",
           "x": [
            72,
            60,
            67,
            78,
            74,
            68
           ],
           "y": [
            9308,
            2962,
            6950,
            26343,
            7596,
            5445
           ]
          }
         ],
         "name": "14"
        },
        {
         "data": [
          {
           "marker": {
            "size": [
             13867,
             45461,
             10376,
             8371,
             38028,
             1791
            ],
            "sizemode": "area",
            "sizeref": 200
           },
           "mode": "markers",
           "name": "Delhi",
           "text": [
            "BKG",
            "AGD",
            "EXP",
            "OYO",
            "YTR",
            "CTP"
           ],
           "type": "scatter",
           "x": [
            41,
            71,
            53,
            54,
            58,
            53
           ],
           "y": [
            852,
            18524,
            752,
            684,
            385,
            776
           ]
          },
          {
           "marker": {
            "size": [
             30753,
             75789,
             98702,
             43389,
             89719
            ],
            "sizemode": "area",
            "sizeref": 200
           },
           "mode": "markers",
           "name": "Mumbai",
           "text": [
            "BKG",
            "AGD",
            "EXP",
            "YTR",
            "CTP"
           ],
           "type": "scatter",
           "x": [
            72,
            75,
            75,
            71,
            71
           ],
           "y": [
            3738,
            23688,
            22526,
            4314,
            8240
           ]
          },
          {
           "marker": {
            "size": [
             23254,
             78742,
             4243,
             11511,
             7586,
             2840
            ],
            "sizemode": "area",
            "sizeref": 200
           },
           "mode": "markers",
           "name": "Banglore",
           "text": [
            "BKG",
            "EXP",
            "AGD",
            "YTR",
            "CTP",
            "OYO"
           ],
           "type": "scatter",
           "x": [
            66,
            40,
            52,
            64,
            50,
            50
           ],
           "y": [
            5681,
            2430,
            1226,
            6206,
            912,
            845
           ]
          },
          {
           "marker": {
            "size": [
             31620,
             6156,
             14293,
             26549,
             12463,
             30964
            ],
            "sizemode": "area",
            "sizeref": 200
           },
           "mode": "markers",
           "name": "Agra",
           "text": [
            "BKG",
            "EXP",
            "AGD",
            "YTR",
            "CTP",
            "OYO"
           ],
           "type": "scatter",
           "x": [
            71,
            57,
            65,
            77,
            72,
            68
           ],
           "y": [
            9140,
            2754,
            7807,
            26627,
            5547,
            4903
           ]
          }
         ],
         "name": "13"
        },
        {
         "data": [
          {
           "marker": {
            "size": [
             12881,
             37796,
             93074,
             7272,
             34680,
             15796
            ],
            "sizemode": "area",
            "sizeref": 200
           },
           "mode": "markers",
           "name": "Delhi",
           "text": [
            "BKG",
            "AGD",
            "EXP",
            "OYO",
            "YTR",
            "CTP"
           ],
           "type": "scatter",
           "x": [
            40,
            69,
            50,
            51,
            58,
            50
           ],
           "y": [
            978,
            19211,
            677,
            624,
            424,
            718
           ]
          },
          {
           "marker": {
            "size": [
             27800,
             75746,
             98563,
             41726,
             8892
            ],
            "sizemode": "area",
            "sizeref": 200
           },
           "mode": "markers",
           "name": "Mumbai",
           "text": [
            "BKG",
            "AGD",
            "EXP",
            "YTR",
            "CTP"
           ],
           "type": "scatter",
           "x": [
            70,
            73,
            74,
            71,
            71
           ],
           "y": [
            3630,
            21597,
            20980,
            4127,
            8224
           ]
          },
          {
           "marker": {
            "size": [
             20033,
             70163,
             3641,
             9703,
             6634,
             2476
            ],
            "sizemode": "area",
            "sizeref": 200
           },
           "mode": "markers",
           "name": "Banglore",
           "text": [
            "BKG",
            "EXP",
            "AGD",
            "YTR",
            "CTP",
            "OYO"
           ],
           "type": "scatter",
           "x": [
            61,
            40,
            51,
            61,
            48,
            48
           ],
           "y": [
            5745,
            2756,
            1278,
            4551,
            807,
            957
           ]
          },
          {
           "marker": {
            "size": [
             29341,
             5642,
             12896,
             25201,
             11487,
             27764
            ],
            "sizemode": "area",
            "sizeref": 200
           },
           "mode": "markers",
           "name": "Agra",
           "text": [
            "BKG",
            "EXP",
            "AGD",
            "YTR",
            "CTP",
            "OYO"
           ],
           "type": "scatter",
           "x": [
            70,
            54,
            63,
            76,
            71,
            67
           ],
           "y": [
            8998,
            3157,
            7031,
            22899,
            5096,
            4398
           ]
          }
         ],
         "name": "12"
        },
        {
         "data": [
          {
           "marker": {
            "size": [
             14880,
             29741,
             80428,
             6978,
             31528,
             13933
            ],
            "sizemode": "area",
            "sizeref": 200
           },
           "mode": "markers",
           "name": "Delhi",
           "text": [
            "BKG",
            "AGD",
            "EXP",
            "OYO",
            "YTR",
            "CTP"
           ],
           "type": "scatter",
           "x": [
            38,
            66,
            47,
            31,
            56,
            47
           ],
           "y": [
            786,
            19340,
            660,
            525,
            371,
            694
           ]
          },
          {
           "marker": {
            "size": [
             25090,
             75684,
             98218,
             4086,
             8797
            ],
            "sizemode": "area",
            "sizeref": 200
           },
           "mode": "markers",
           "name": "Mumbai",
           "text": [
            "BKG",
            "AGD",
            "EXP",
            "YTR",
            "CTP"
           ],
           "type": "scatter",
           "x": [
            69,
            72,
            73,
            70,
            71
           ],
           "y": [
            3533,
            19749,
            19118,
            3528,
            7612
           ]
          },
          {
           "marker": {
            "size": [
             17152,
             61626,
             3168,
             7814,
             5889,
             2167
            ],
            "sizemode": "area",
            "sizeref": 200
           },
           "mode": "markers",
           "name": "Banglore",
           "text": [
            "BKG",
            "EXP",
            "AGD",
            "YTR",
            "CTP",
            "OYO"
           ],
           "type": "scatter",
           "x": [
            58,
            39,
            49,
            59,
            46,
            47
           ],
           "y": [
            4910,
            3008,
            1029,
            3215,
            743,
            1109
           ]
          },
          {
           "marker": {
            "size": [
             26983,
             5079,
             11431,
             23796,
             10599,
             25094
            ],
            "sizemode": "area",
            "sizeref": 200
           },
           "mode": "markers",
           "name": "Agra",
           "text": [
            "BKG",
            "EXP",
            "AGD",
            "YTR",
            "CTP",
            "OYO"
           ],
           "type": "scatter",
           "x": [
            68,
            50,
            61,
            74,
            67,
            64
           ],
           "y": [
            10079,
            3548,
            6660,
            22091,
            4757,
            3816
           ]
          }
         ],
         "name": "11"
        },
        {
         "data": [
          {
           "marker": {
            "size": [
             13079,
             23080,
             70759,
             7450,
             28466,
             1241
            ],
            "sizemode": "area",
            "sizeref": 200
           },
           "mode": "markers",
           "name": "Delhi",
           "text": [
            "BKG",
            "AGD",
            "EXP",
            "OYO",
            "YTR",
            "CTP"
           ],
           "type": "scatter",
           "x": [
            36,
            63,
            45,
            40,
            53,
            44
           ],
           "y": [
            739,
            18269,
            630,
            422,
            357,
            675
           ]
          },
          {
           "marker": {
            "size": [
             22635,
             75442,
             97091,
             3819,
             8576
            ],
            "sizemode": "area",
            "sizeref": 200
           },
           "mode": "markers",
           "name": "Mumbai",
           "text": [
            "BKG",
            "AGD",
            "EXP",
            "YTR",
            "CTP"
           ],
           "type": "scatter",
           "x": [
            68,
            71,
            71,
            67,
            71
           ],
           "y": [
            3313,
            16662,
            16672,
            2860,
            6597
           ]
          },
          {
           "marker": {
            "size": [
             14760,
             58948,
             2761,
             6193,
             5433,
             19272
            ],
            "sizemode": "area",
            "sizeref": 200
           },
           "mode": "markers",
           "name": "Banglore",
           "text": [
            "BKG",
            "EXP",
            "AGD",
            "YTR",
            "CTP",
            "OYO"
           ],
           "type": "scatter",
           "x": [
            55,
            38,
            47,
            56,
            44,
            43
           ],
           "y": [
            4182,
            5473,
            1086,
            2264,
            855,
            1070
           ]
          },
          {
           "marker": {
            "size": [
             24779,
             4565,
             100840,
             22284,
             9717,
             22542
            ],
            "sizemode": "area",
            "sizeref": 200
           },
           "mode": "markers",
           "name": "Agra",
           "text": [
            "BKG",
            "EXP",
            "AGD",
            "YTR",
            "CTP",
            "OYO"
           ],
           "type": "scatter",
           "x": [
            67,
            47,
            60,
            73,
            63,
            62
           ],
           "y": [
            9443,
            2980,
            4986,
            18971,
            5494,
            3265
           ]
          }
         ],
         "name": "10"
        },
        {
         "data": [
          {
           "marker": {
            "size": [
             11537,
             202182,
             62821,
             6960,
             25870,
             11261
            ],
            "sizemode": "area",
            "sizeref": 200
           },
           "mode": "markers",
           "name": "Delhi",
           "text": [
            "BKG",
            "AGD",
            "EXP",
            "OYO",
            "YTR",
            "CTP"
           ],
           "type": "scatter",
           "x": [
            34,
            60,
            43,
            45,
            49,
            41
           ],
           "y": [
            836,
            14805,
            721,
            523,
            349,
            676
           ]
          },
          {
           "marker": {
            "size": [
             19840,
             73769,
             95565,
             3585,
             8310
            ],
            "sizemode": "area",
            "sizeref": 200
           },
           "mode": "markers",
           "name": "Mumbai",
           "text": [
            "BKG",
            "AGD",
            "EXP",
            "YTR",
            "CTP"
           ],
           "type": "scatter",
           "x": [
            66,
            70,
            71,
            65,
            70
           ],
           "y": [
            2760,
            12835,
            13149,
            2172,
            5577
           ]
          },
          {
           "marker": {
            "size": [
             12760,
             52474,
             2427,
             5535,
             5127,
             17336
            ],
            "sizemode": "area",
            "sizeref": 200
           },
           "mode": "markers",
           "name": "Banglore",
           "text": [
            "BKG",
            "EXP",
            "AGD",
            "YTR",
            "CTP",
            "OYO"
           ],
           "type": "scatter",
           "x": [
            51,
            36,
            45,
            53,
            41,
            41
           ],
           "y": [
            3246,
            5522,
            1036,
            1215,
            795,
            1136
           ]
          },
          {
           "marker": {
            "size": [
             22934,
             4040,
             88049,
             20819,
             8858,
             19764
            ],
            "sizemode": "area",
            "sizeref": 200
           },
           "mode": "markers",
           "name": "Agra",
           "text": [
            "BKG",
            "EXP",
            "AGD",
            "YTR",
            "CTP",
            "OYO"
           ],
           "type": "scatter",
           "x": [
            66,
            45,
            58,
            72,
            61,
            60
           ],
           "y": [
            8053,
            2587,
            3430,
            16077,
            5107,
            2679
           ]
          }
         ],
         "name": "09"
        },
        {
         "data": [
          {
           "marker": {
            "size": [
             10267,
             171863,
             56839,
             6083,
             23634,
             10332
            ],
            "sizemode": "area",
            "sizeref": 200
           },
           "mode": "markers",
           "name": "Delhi",
           "text": [
            "BKG",
            "AGD",
            "EXP",
            "OYO",
            "YTR",
            "CTP"
           ],
           "type": "scatter",
           "x": [
            32,
            57,
            41,
            43,
            45,
            39
           ],
           "y": [
            853,
            12753,
            686,
            497,
            388,
            652
           ]
          },
          {
           "marker": {
            "size": [
             17280,
             71290,
             92184,
             3349,
             8012
            ],
            "sizemode": "area",
            "sizeref": 200
           },
           "mode": "markers",
           "name": "Mumbai",
           "text": [
            "BKG",
            "AGD",
            "EXP",
            "YTR",
            "CTP"
           ],
           "type": "scatter",
           "x": [
            65,
            70,
            70,
            62,
            70
           ],
           "y": [
            2312,
            10751,
            10991,
            1710,
            4254
           ]
          },
          {
           "marker": {
            "size": [
             11000,
             48260,
             2151,
             5127,
             4919,
             15234
            ],
            "sizemode": "area",
            "sizeref": 200
           },
           "mode": "markers",
           "name": "Banglore",
           "text": [
            "BKG",
            "EXP",
            "AGD",
            "YTR",
            "CTP",
            "OYO"
           ],
           "type": "scatter",
           "x": [
            48,
            34,
            43,
            52,
            38,
            39
           ],
           "y": [
            2550,
            4269,
            949,
            984,
            723,
            1193
           ]
          },
          {
           "marker": {
            "size": [
             21283,
             3593,
             76039,
             18985,
             7961,
             17009
            ],
            "sizemode": "area",
            "sizeref": 200
           },
           "mode": "markers",
           "name": "Agra",
           "text": [
            "BKG",
            "EXP",
            "AGD",
            "YTR",
            "CTP",
            "OYO"
           ],
           "type": "scatter",
           "x": [
            65,
            43,
            56,
            71,
            58,
            58
           ],
           "y": [
            7133,
            2181,
            3337,
            13462,
            4519,
            2492
           ]
          }
         ],
         "name": "08"
        },
        {
         "data": [
          {
           "marker": {
            "size": [
             8425,
             12044,
             46886,
             4693,
             20092,
             91825
            ],
            "sizemode": "area",
            "sizeref": 200
           },
           "mode": "markers",
           "name": "Delhi",
           "text": [
            "BKG",
            "AGD",
            "EXP",
            "OYO",
            "YTR",
            "CTP"
           ],
           "type": "scatter",
           "x": [
            29,
            51,
            37,
            39,
            36,
            36
           ],
           "y": [
            779,
            9867,
            684,
            368,
            331,
            546
           ]
          },
          {
           "marker": {
            "size": [
             12826,
             6927,
             87304,
             2791,
             7274
            ],
            "sizemode": "area",
            "sizeref": 200
           },
           "mode": "markers",
           "name": "Mumbai",
           "text": [
            "BKG",
            "AGD",
            "EXP",
            "YTR",
            "CTP"
           ],
           "type": "scatter",
           "x": [
            55,
            67,
            68,
            54,
            60
           ],
           "y": [
            1601,
            6137,
            8343,
            974,
            2444
           ]
          },
          {
           "marker": {
            "size": [
             92795,
             42320,
             17383,
             4423,
             4469,
             1291
            ],
            "sizemode": "area",
            "sizeref": 200
           },
           "mode": "markers",
           "name": "Banglore",
           "text": [
            "BKG",
            "EXP",
            "AGD",
            "YTR",
            "CTP",
            "OYO"
           ],
           "type": "scatter",
           "x": [
            43,
            30,
            38,
            48,
            32,
            35
           ],
           "y": [
            2449,
            3520,
            1063,
            851,
            543,
            1071
           ]
          },
          {
           "marker": {
            "size": [
             17876,
             2883,
             56602,
             14785,
             6377,
             12350
            ],
            "sizemode": "area",
            "sizeref": 200
           },
           "mode": "markers",
           "name": "Agra",
           "text": [
            "BKG",
            "EXP",
            "AGD",
            "YTR",
            "CTP",
            "OYO"
           ],
           "type": "scatter",
           "x": [
            62,
            40,
            51,
            69,
            55,
            51
           ],
           "y": [
            5911,
            2677,
            2109,
            11367,
            3940,
            2144
           ]
          }
         ],
         "name": "07"
        }
       ],
       "layout": {
        "hovermode": "closest",
        "sliders": [
         {
          "active": 0,
          "currentvalue": {
           "font": {
            "size": 20
           },
           "prefix": "Date:",
           "visible": true,
           "xanchor": "right"
          },
          "len": 0.9,
          "pad": {
           "b": 10,
           "t": 50
          },
          "steps": [
           {
            "args": [
             [
              "17"
             ],
             {
              "frame": {
               "duration": 300,
               "redraw": false
              },
              "mode": "immediate",
              "transition": {
               "duration": 300
              }
             }
            ],
            "label": "17",
            "method": "animate"
           },
           {
            "args": [
             [
              "16"
             ],
             {
              "frame": {
               "duration": 300,
               "redraw": false
              },
              "mode": "immediate",
              "transition": {
               "duration": 300
              }
             }
            ],
            "label": "16",
            "method": "animate"
           },
           {
            "args": [
             [
              "15"
             ],
             {
              "frame": {
               "duration": 300,
               "redraw": false
              },
              "mode": "immediate",
              "transition": {
               "duration": 300
              }
             }
            ],
            "label": "15",
            "method": "animate"
           },
           {
            "args": [
             [
              "14"
             ],
             {
              "frame": {
               "duration": 300,
               "redraw": false
              },
              "mode": "immediate",
              "transition": {
               "duration": 300
              }
             }
            ],
            "label": "14",
            "method": "animate"
           },
           {
            "args": [
             [
              "13"
             ],
             {
              "frame": {
               "duration": 300,
               "redraw": false
              },
              "mode": "immediate",
              "transition": {
               "duration": 300
              }
             }
            ],
            "label": "13",
            "method": "animate"
           },
           {
            "args": [
             [
              "12"
             ],
             {
              "frame": {
               "duration": 300,
               "redraw": false
              },
              "mode": "immediate",
              "transition": {
               "duration": 300
              }
             }
            ],
            "label": "12",
            "method": "animate"
           },
           {
            "args": [
             [
              "11"
             ],
             {
              "frame": {
               "duration": 300,
               "redraw": false
              },
              "mode": "immediate",
              "transition": {
               "duration": 300
              }
             }
            ],
            "label": "11",
            "method": "animate"
           },
           {
            "args": [
             [
              "10"
             ],
             {
              "frame": {
               "duration": 300,
               "redraw": false
              },
              "mode": "immediate",
              "transition": {
               "duration": 300
              }
             }
            ],
            "label": "10",
            "method": "animate"
           },
           {
            "args": [
             [
              "09"
             ],
             {
              "frame": {
               "duration": 300,
               "redraw": false
              },
              "mode": "immediate",
              "transition": {
               "duration": 300
              }
             }
            ],
            "label": "09",
            "method": "animate"
           },
           {
            "args": [
             [
              "08"
             ],
             {
              "frame": {
               "duration": 300,
               "redraw": false
              },
              "mode": "immediate",
              "transition": {
               "duration": 300
              }
             }
            ],
            "label": "08",
            "method": "animate"
           },
           {
            "args": [
             [
              "07"
             ],
             {
              "frame": {
               "duration": 300,
               "redraw": false
              },
              "mode": "immediate",
              "transition": {
               "duration": 300
              }
             }
            ],
            "label": "07",
            "method": "animate"
           }
          ],
          "transition": {
           "duration": 300,
           "easing": "cubic-in-out"
          },
          "x": 0.1,
          "xanchor": "left",
          "y": 0,
          "yanchor": "top"
         }
        ],
        "template": {
         "data": {
          "bar": [
           {
            "error_x": {
             "color": "#2a3f5f"
            },
            "error_y": {
             "color": "#2a3f5f"
            },
            "marker": {
             "line": {
              "color": "#E5ECF6",
              "width": 0.5
             }
            },
            "type": "bar"
           }
          ],
          "barpolar": [
           {
            "marker": {
             "line": {
              "color": "#E5ECF6",
              "width": 0.5
             }
            },
            "type": "barpolar"
           }
          ],
          "carpet": [
           {
            "aaxis": {
             "endlinecolor": "#2a3f5f",
             "gridcolor": "white",
             "linecolor": "white",
             "minorgridcolor": "white",
             "startlinecolor": "#2a3f5f"
            },
            "baxis": {
             "endlinecolor": "#2a3f5f",
             "gridcolor": "white",
             "linecolor": "white",
             "minorgridcolor": "white",
             "startlinecolor": "#2a3f5f"
            },
            "type": "carpet"
           }
          ],
          "choropleth": [
           {
            "colorbar": {
             "outlinewidth": 0,
             "ticks": ""
            },
            "type": "choropleth"
           }
          ],
          "contour": [
           {
            "colorbar": {
             "outlinewidth": 0,
             "ticks": ""
            },
            "colorscale": [
             [
              0,
              "#0d0887"
             ],
             [
              0.1111111111111111,
              "#46039f"
             ],
             [
              0.2222222222222222,
              "#7201a8"
             ],
             [
              0.3333333333333333,
              "#9c179e"
             ],
             [
              0.4444444444444444,
              "#bd3786"
             ],
             [
              0.5555555555555556,
              "#d8576b"
             ],
             [
              0.6666666666666666,
              "#ed7953"
             ],
             [
              0.7777777777777778,
              "#fb9f3a"
             ],
             [
              0.8888888888888888,
              "#fdca26"
             ],
             [
              1,
              "#f0f921"
             ]
            ],
            "type": "contour"
           }
          ],
          "contourcarpet": [
           {
            "colorbar": {
             "outlinewidth": 0,
             "ticks": ""
            },
            "type": "contourcarpet"
           }
          ],
          "heatmap": [
           {
            "colorbar": {
             "outlinewidth": 0,
             "ticks": ""
            },
            "colorscale": [
             [
              0,
              "#0d0887"
             ],
             [
              0.1111111111111111,
              "#46039f"
             ],
             [
              0.2222222222222222,
              "#7201a8"
             ],
             [
              0.3333333333333333,
              "#9c179e"
             ],
             [
              0.4444444444444444,
              "#bd3786"
             ],
             [
              0.5555555555555556,
              "#d8576b"
             ],
             [
              0.6666666666666666,
              "#ed7953"
             ],
             [
              0.7777777777777778,
              "#fb9f3a"
             ],
             [
              0.8888888888888888,
              "#fdca26"
             ],
             [
              1,
              "#f0f921"
             ]
            ],
            "type": "heatmap"
           }
          ],
          "heatmapgl": [
           {
            "colorbar": {
             "outlinewidth": 0,
             "ticks": ""
            },
            "colorscale": [
             [
              0,
              "#0d0887"
             ],
             [
              0.1111111111111111,
              "#46039f"
             ],
             [
              0.2222222222222222,
              "#7201a8"
             ],
             [
              0.3333333333333333,
              "#9c179e"
             ],
             [
              0.4444444444444444,
              "#bd3786"
             ],
             [
              0.5555555555555556,
              "#d8576b"
             ],
             [
              0.6666666666666666,
              "#ed7953"
             ],
             [
              0.7777777777777778,
              "#fb9f3a"
             ],
             [
              0.8888888888888888,
              "#fdca26"
             ],
             [
              1,
              "#f0f921"
             ]
            ],
            "type": "heatmapgl"
           }
          ],
          "histogram": [
           {
            "marker": {
             "colorbar": {
              "outlinewidth": 0,
              "ticks": ""
             }
            },
            "type": "histogram"
           }
          ],
          "histogram2d": [
           {
            "colorbar": {
             "outlinewidth": 0,
             "ticks": ""
            },
            "colorscale": [
             [
              0,
              "#0d0887"
             ],
             [
              0.1111111111111111,
              "#46039f"
             ],
             [
              0.2222222222222222,
              "#7201a8"
             ],
             [
              0.3333333333333333,
              "#9c179e"
             ],
             [
              0.4444444444444444,
              "#bd3786"
             ],
             [
              0.5555555555555556,
              "#d8576b"
             ],
             [
              0.6666666666666666,
              "#ed7953"
             ],
             [
              0.7777777777777778,
              "#fb9f3a"
             ],
             [
              0.8888888888888888,
              "#fdca26"
             ],
             [
              1,
              "#f0f921"
             ]
            ],
            "type": "histogram2d"
           }
          ],
          "histogram2dcontour": [
           {
            "colorbar": {
             "outlinewidth": 0,
             "ticks": ""
            },
            "colorscale": [
             [
              0,
              "#0d0887"
             ],
             [
              0.1111111111111111,
              "#46039f"
             ],
             [
              0.2222222222222222,
              "#7201a8"
             ],
             [
              0.3333333333333333,
              "#9c179e"
             ],
             [
              0.4444444444444444,
              "#bd3786"
             ],
             [
              0.5555555555555556,
              "#d8576b"
             ],
             [
              0.6666666666666666,
              "#ed7953"
             ],
             [
              0.7777777777777778,
              "#fb9f3a"
             ],
             [
              0.8888888888888888,
              "#fdca26"
             ],
             [
              1,
              "#f0f921"
             ]
            ],
            "type": "histogram2dcontour"
           }
          ],
          "mesh3d": [
           {
            "colorbar": {
             "outlinewidth": 0,
             "ticks": ""
            },
            "type": "mesh3d"
           }
          ],
          "parcoords": [
           {
            "line": {
             "colorbar": {
              "outlinewidth": 0,
              "ticks": ""
             }
            },
            "type": "parcoords"
           }
          ],
          "pie": [
           {
            "automargin": true,
            "type": "pie"
           }
          ],
          "scatter": [
           {
            "marker": {
             "colorbar": {
              "outlinewidth": 0,
              "ticks": ""
             }
            },
            "type": "scatter"
           }
          ],
          "scatter3d": [
           {
            "line": {
             "colorbar": {
              "outlinewidth": 0,
              "ticks": ""
             }
            },
            "marker": {
             "colorbar": {
              "outlinewidth": 0,
              "ticks": ""
             }
            },
            "type": "scatter3d"
           }
          ],
          "scattercarpet": [
           {
            "marker": {
             "colorbar": {
              "outlinewidth": 0,
              "ticks": ""
             }
            },
            "type": "scattercarpet"
           }
          ],
          "scattergeo": [
           {
            "marker": {
             "colorbar": {
              "outlinewidth": 0,
              "ticks": ""
             }
            },
            "type": "scattergeo"
           }
          ],
          "scattergl": [
           {
            "marker": {
             "colorbar": {
              "outlinewidth": 0,
              "ticks": ""
             }
            },
            "type": "scattergl"
           }
          ],
          "scattermapbox": [
           {
            "marker": {
             "colorbar": {
              "outlinewidth": 0,
              "ticks": ""
             }
            },
            "type": "scattermapbox"
           }
          ],
          "scatterpolar": [
           {
            "marker": {
             "colorbar": {
              "outlinewidth": 0,
              "ticks": ""
             }
            },
            "type": "scatterpolar"
           }
          ],
          "scatterpolargl": [
           {
            "marker": {
             "colorbar": {
              "outlinewidth": 0,
              "ticks": ""
             }
            },
            "type": "scatterpolargl"
           }
          ],
          "scatterternary": [
           {
            "marker": {
             "colorbar": {
              "outlinewidth": 0,
              "ticks": ""
             }
            },
            "type": "scatterternary"
           }
          ],
          "surface": [
           {
            "colorbar": {
             "outlinewidth": 0,
             "ticks": ""
            },
            "colorscale": [
             [
              0,
              "#0d0887"
             ],
             [
              0.1111111111111111,
              "#46039f"
             ],
             [
              0.2222222222222222,
              "#7201a8"
             ],
             [
              0.3333333333333333,
              "#9c179e"
             ],
             [
              0.4444444444444444,
              "#bd3786"
             ],
             [
              0.5555555555555556,
              "#d8576b"
             ],
             [
              0.6666666666666666,
              "#ed7953"
             ],
             [
              0.7777777777777778,
              "#fb9f3a"
             ],
             [
              0.8888888888888888,
              "#fdca26"
             ],
             [
              1,
              "#f0f921"
             ]
            ],
            "type": "surface"
           }
          ],
          "table": [
           {
            "cells": {
             "fill": {
              "color": "#EBF0F8"
             },
             "line": {
              "color": "white"
             }
            },
            "header": {
             "fill": {
              "color": "#C8D4E3"
             },
             "line": {
              "color": "white"
             }
            },
            "type": "table"
           }
          ]
         },
         "layout": {
          "annotationdefaults": {
           "arrowcolor": "#2a3f5f",
           "arrowhead": 0,
           "arrowwidth": 1
          },
          "coloraxis": {
           "colorbar": {
            "outlinewidth": 0,
            "ticks": ""
           }
          },
          "colorscale": {
           "diverging": [
            [
             0,
             "#8e0152"
            ],
            [
             0.1,
             "#c51b7d"
            ],
            [
             0.2,
             "#de77ae"
            ],
            [
             0.3,
             "#f1b6da"
            ],
            [
             0.4,
             "#fde0ef"
            ],
            [
             0.5,
             "#f7f7f7"
            ],
            [
             0.6,
             "#e6f5d0"
            ],
            [
             0.7,
             "#b8e186"
            ],
            [
             0.8,
             "#7fbc41"
            ],
            [
             0.9,
             "#4d9221"
            ],
            [
             1,
             "#276419"
            ]
           ],
           "sequential": [
            [
             0,
             "#0d0887"
            ],
            [
             0.1111111111111111,
             "#46039f"
            ],
            [
             0.2222222222222222,
             "#7201a8"
            ],
            [
             0.3333333333333333,
             "#9c179e"
            ],
            [
             0.4444444444444444,
             "#bd3786"
            ],
            [
             0.5555555555555556,
             "#d8576b"
            ],
            [
             0.6666666666666666,
             "#ed7953"
            ],
            [
             0.7777777777777778,
             "#fb9f3a"
            ],
            [
             0.8888888888888888,
             "#fdca26"
            ],
            [
             1,
             "#f0f921"
            ]
           ],
           "sequentialminus": [
            [
             0,
             "#0d0887"
            ],
            [
             0.1111111111111111,
             "#46039f"
            ],
            [
             0.2222222222222222,
             "#7201a8"
            ],
            [
             0.3333333333333333,
             "#9c179e"
            ],
            [
             0.4444444444444444,
             "#bd3786"
            ],
            [
             0.5555555555555556,
             "#d8576b"
            ],
            [
             0.6666666666666666,
             "#ed7953"
            ],
            [
             0.7777777777777778,
             "#fb9f3a"
            ],
            [
             0.8888888888888888,
             "#fdca26"
            ],
            [
             1,
             "#f0f921"
            ]
           ]
          },
          "colorway": [
           "#636efa",
           "#EF553B",
           "#00cc96",
           "#ab63fa",
           "#FFA15A",
           "#19d3f3",
           "#FF6692",
           "#B6E880",
           "#FF97FF",
           "#FECB52"
          ],
          "font": {
           "color": "#2a3f5f"
          },
          "geo": {
           "bgcolor": "white",
           "lakecolor": "white",
           "landcolor": "#E5ECF6",
           "showlakes": true,
           "showland": true,
           "subunitcolor": "white"
          },
          "hoverlabel": {
           "align": "left"
          },
          "hovermode": "closest",
          "mapbox": {
           "style": "light"
          },
          "paper_bgcolor": "white",
          "plot_bgcolor": "#E5ECF6",
          "polar": {
           "angularaxis": {
            "gridcolor": "white",
            "linecolor": "white",
            "ticks": ""
           },
           "bgcolor": "#E5ECF6",
           "radialaxis": {
            "gridcolor": "white",
            "linecolor": "white",
            "ticks": ""
           }
          },
          "scene": {
           "xaxis": {
            "backgroundcolor": "#E5ECF6",
            "gridcolor": "white",
            "gridwidth": 2,
            "linecolor": "white",
            "showbackground": true,
            "ticks": "",
            "zerolinecolor": "white"
           },
           "yaxis": {
            "backgroundcolor": "#E5ECF6",
            "gridcolor": "white",
            "gridwidth": 2,
            "linecolor": "white",
            "showbackground": true,
            "ticks": "",
            "zerolinecolor": "white"
           },
           "zaxis": {
            "backgroundcolor": "#E5ECF6",
            "gridcolor": "white",
            "gridwidth": 2,
            "linecolor": "white",
            "showbackground": true,
            "ticks": "",
            "zerolinecolor": "white"
           }
          },
          "shapedefaults": {
           "line": {
            "color": "#2a3f5f"
           }
          },
          "ternary": {
           "aaxis": {
            "gridcolor": "white",
            "linecolor": "white",
            "ticks": ""
           },
           "baxis": {
            "gridcolor": "white",
            "linecolor": "white",
            "ticks": ""
           },
           "bgcolor": "#E5ECF6",
           "caxis": {
            "gridcolor": "white",
            "linecolor": "white",
            "ticks": ""
           }
          },
          "title": {
           "x": 0.05
          },
          "xaxis": {
           "automargin": true,
           "gridcolor": "white",
           "linecolor": "white",
           "ticks": "",
           "title": {
            "standoff": 15
           },
           "zerolinecolor": "white",
           "zerolinewidth": 2
          },
          "yaxis": {
           "automargin": true,
           "gridcolor": "white",
           "linecolor": "white",
           "ticks": "",
           "title": {
            "standoff": 15
           },
           "zerolinecolor": "white",
           "zerolinewidth": 2
          }
         }
        },
        "updatemenus": [
         {
          "buttons": [
           {
            "args": [
             null,
             {
              "frame": {
               "duration": 500,
               "redraw": false
              },
              "fromcurrent": true,
              "transition": {
               "duration": 300,
               "easing": "quadratic-in-out"
              }
             }
            ],
            "label": "Play",
            "method": "animate"
           },
           {
            "args": [
             [
              null
             ],
             {
              "frame": {
               "duration": 0,
               "redraw": false
              },
              "mode": "immediate",
              "transition": {
               "duration": 0
              }
             }
            ],
            "label": "Pause",
            "method": "animate"
           }
          ],
          "direction": "left",
          "pad": {
           "r": 10,
           "t": 87
          },
          "showactive": false,
          "type": "buttons",
          "x": 0.1,
          "xanchor": "right",
          "y": 0,
          "yanchor": "top"
         }
        ],
        "xaxis": {
         "range": [
          30,
          85
         ],
         "title": {
          "text": "Beaten"
         }
        },
        "yaxis": {
         "title": {
          "text": "Meet"
         },
         "type": "log"
        }
       }
      },
      "text/html": [
       "<div>                            <div id=\"9a7629cd-079a-4263-9212-39ba9bfd2083\" class=\"plotly-graph-div\" style=\"height:525px; width:100%;\"></div>            <script type=\"text/javascript\">                require([\"plotly\"], function(Plotly) {                    window.PLOTLYENV=window.PLOTLYENV || {};                                    if (document.getElementById(\"9a7629cd-079a-4263-9212-39ba9bfd2083\")) {                    Plotly.newPlot(                        \"9a7629cd-079a-4263-9212-39ba9bfd2083\",                        [{\"marker\": {\"size\": [8425, 12044, 46886, 4693, 20092, 91825], \"sizemode\": \"area\", \"sizeref\": 200}, \"mode\": \"markers\", \"name\": \"Delhi\", \"text\": [\"BKG\", \"AGD\", \"EXP\", \"OYO\", \"YTR\", \"CTP\"], \"type\": \"scatter\", \"x\": [29, 51, 37, 39, 36, 36], \"y\": [779, 9867, 684, 368, 331, 546]}, {\"marker\": {\"size\": [12826, 6927, 87304, 2791, 7274], \"sizemode\": \"area\", \"sizeref\": 200}, \"mode\": \"markers\", \"name\": \"Mumbai\", \"text\": [\"BKG\", \"AGD\", \"EXP\", \"YTR\", \"CTP\"], \"type\": \"scatter\", \"x\": [55, 67, 68, 54, 60], \"y\": [1601, 6137, 8343, 974, 2444]}, {\"marker\": {\"size\": [92795, 42320, 17383, 4423, 4469, 1291], \"sizemode\": \"area\", \"sizeref\": 200}, \"mode\": \"markers\", \"name\": \"Banglore\", \"text\": [\"BKG\", \"EXP\", \"AGD\", \"YTR\", \"CTP\", \"OYO\"], \"type\": \"scatter\", \"x\": [43, 30, 38, 48, 32, 35], \"y\": [2449, 3520, 1063, 851, 543, 1071]}, {\"marker\": {\"size\": [17876, 2883, 56602, 14785, 6377, 12350], \"sizemode\": \"area\", \"sizeref\": 200}, \"mode\": \"markers\", \"name\": \"Agra\", \"text\": [\"BKG\", \"EXP\", \"AGD\", \"YTR\", \"CTP\", \"OYO\"], \"type\": \"scatter\", \"x\": [62, 40, 51, 69, 55, 51], \"y\": [5911, 2677, 2109, 11367, 3940, 2144]}],                        {\"hovermode\": \"closest\", \"sliders\": [{\"active\": 0, \"currentvalue\": {\"font\": {\"size\": 20}, \"prefix\": \"Date:\", \"visible\": true, \"xanchor\": \"right\"}, \"len\": 0.9, \"pad\": {\"b\": 10, \"t\": 50}, \"steps\": [{\"args\": [[\"17\"], {\"frame\": {\"duration\": 300, \"redraw\": false}, \"mode\": \"immediate\", \"transition\": {\"duration\": 300}}], \"label\": \"17\", \"method\": \"animate\"}, {\"args\": [[\"16\"], {\"frame\": {\"duration\": 300, \"redraw\": false}, \"mode\": \"immediate\", \"transition\": {\"duration\": 300}}], \"label\": \"16\", \"method\": \"animate\"}, {\"args\": [[\"15\"], {\"frame\": {\"duration\": 300, \"redraw\": false}, \"mode\": \"immediate\", \"transition\": {\"duration\": 300}}], \"label\": \"15\", \"method\": \"animate\"}, {\"args\": [[\"14\"], {\"frame\": {\"duration\": 300, \"redraw\": false}, \"mode\": \"immediate\", \"transition\": {\"duration\": 300}}], \"label\": \"14\", \"method\": \"animate\"}, {\"args\": [[\"13\"], {\"frame\": {\"duration\": 300, \"redraw\": false}, \"mode\": \"immediate\", \"transition\": {\"duration\": 300}}], \"label\": \"13\", \"method\": \"animate\"}, {\"args\": [[\"12\"], {\"frame\": {\"duration\": 300, \"redraw\": false}, \"mode\": \"immediate\", \"transition\": {\"duration\": 300}}], \"label\": \"12\", \"method\": \"animate\"}, {\"args\": [[\"11\"], {\"frame\": {\"duration\": 300, \"redraw\": false}, \"mode\": \"immediate\", \"transition\": {\"duration\": 300}}], \"label\": \"11\", \"method\": \"animate\"}, {\"args\": [[\"10\"], {\"frame\": {\"duration\": 300, \"redraw\": false}, \"mode\": \"immediate\", \"transition\": {\"duration\": 300}}], \"label\": \"10\", \"method\": \"animate\"}, {\"args\": [[\"09\"], {\"frame\": {\"duration\": 300, \"redraw\": false}, \"mode\": \"immediate\", \"transition\": {\"duration\": 300}}], \"label\": \"09\", \"method\": \"animate\"}, {\"args\": [[\"08\"], {\"frame\": {\"duration\": 300, \"redraw\": false}, \"mode\": \"immediate\", \"transition\": {\"duration\": 300}}], \"label\": \"08\", \"method\": \"animate\"}, {\"args\": [[\"07\"], {\"frame\": {\"duration\": 300, \"redraw\": false}, \"mode\": \"immediate\", \"transition\": {\"duration\": 300}}], \"label\": \"07\", \"method\": \"animate\"}], \"transition\": {\"duration\": 300, \"easing\": \"cubic-in-out\"}, \"x\": 0.1, \"xanchor\": \"left\", \"y\": 0, \"yanchor\": \"top\"}], \"template\": {\"data\": {\"bar\": [{\"error_x\": {\"color\": \"#2a3f5f\"}, \"error_y\": {\"color\": \"#2a3f5f\"}, \"marker\": {\"line\": {\"color\": \"#E5ECF6\", \"width\": 0.5}}, \"type\": \"bar\"}], \"barpolar\": [{\"marker\": {\"line\": {\"color\": \"#E5ECF6\", \"width\": 0.5}}, \"type\": \"barpolar\"}], \"carpet\": [{\"aaxis\": {\"endlinecolor\": \"#2a3f5f\", \"gridcolor\": \"white\", \"linecolor\": \"white\", \"minorgridcolor\": \"white\", \"startlinecolor\": \"#2a3f5f\"}, \"baxis\": {\"endlinecolor\": \"#2a3f5f\", \"gridcolor\": \"white\", \"linecolor\": \"white\", \"minorgridcolor\": \"white\", \"startlinecolor\": \"#2a3f5f\"}, \"type\": \"carpet\"}], \"choropleth\": [{\"colorbar\": {\"outlinewidth\": 0, \"ticks\": \"\"}, \"type\": \"choropleth\"}], \"contour\": [{\"colorbar\": {\"outlinewidth\": 0, \"ticks\": \"\"}, \"colorscale\": [[0.0, \"#0d0887\"], [0.1111111111111111, \"#46039f\"], [0.2222222222222222, \"#7201a8\"], [0.3333333333333333, \"#9c179e\"], [0.4444444444444444, \"#bd3786\"], [0.5555555555555556, \"#d8576b\"], [0.6666666666666666, \"#ed7953\"], [0.7777777777777778, \"#fb9f3a\"], [0.8888888888888888, \"#fdca26\"], [1.0, \"#f0f921\"]], \"type\": \"contour\"}], \"contourcarpet\": [{\"colorbar\": {\"outlinewidth\": 0, \"ticks\": \"\"}, \"type\": \"contourcarpet\"}], \"heatmap\": [{\"colorbar\": {\"outlinewidth\": 0, \"ticks\": \"\"}, \"colorscale\": [[0.0, \"#0d0887\"], [0.1111111111111111, \"#46039f\"], [0.2222222222222222, \"#7201a8\"], [0.3333333333333333, \"#9c179e\"], [0.4444444444444444, \"#bd3786\"], [0.5555555555555556, \"#d8576b\"], [0.6666666666666666, \"#ed7953\"], [0.7777777777777778, \"#fb9f3a\"], [0.8888888888888888, \"#fdca26\"], [1.0, \"#f0f921\"]], \"type\": \"heatmap\"}], \"heatmapgl\": [{\"colorbar\": {\"outlinewidth\": 0, \"ticks\": \"\"}, \"colorscale\": [[0.0, \"#0d0887\"], [0.1111111111111111, \"#46039f\"], [0.2222222222222222, \"#7201a8\"], [0.3333333333333333, \"#9c179e\"], [0.4444444444444444, \"#bd3786\"], [0.5555555555555556, \"#d8576b\"], [0.6666666666666666, \"#ed7953\"], [0.7777777777777778, \"#fb9f3a\"], [0.8888888888888888, \"#fdca26\"], [1.0, \"#f0f921\"]], \"type\": \"heatmapgl\"}], \"histogram\": [{\"marker\": {\"colorbar\": {\"outlinewidth\": 0, \"ticks\": \"\"}}, \"type\": \"histogram\"}], \"histogram2d\": [{\"colorbar\": {\"outlinewidth\": 0, \"ticks\": \"\"}, \"colorscale\": [[0.0, \"#0d0887\"], [0.1111111111111111, \"#46039f\"], [0.2222222222222222, \"#7201a8\"], [0.3333333333333333, \"#9c179e\"], [0.4444444444444444, \"#bd3786\"], [0.5555555555555556, \"#d8576b\"], [0.6666666666666666, \"#ed7953\"], [0.7777777777777778, \"#fb9f3a\"], [0.8888888888888888, \"#fdca26\"], [1.0, \"#f0f921\"]], \"type\": \"histogram2d\"}], \"histogram2dcontour\": [{\"colorbar\": {\"outlinewidth\": 0, \"ticks\": \"\"}, \"colorscale\": [[0.0, \"#0d0887\"], [0.1111111111111111, \"#46039f\"], [0.2222222222222222, \"#7201a8\"], [0.3333333333333333, \"#9c179e\"], [0.4444444444444444, \"#bd3786\"], [0.5555555555555556, \"#d8576b\"], [0.6666666666666666, \"#ed7953\"], [0.7777777777777778, \"#fb9f3a\"], [0.8888888888888888, \"#fdca26\"], [1.0, \"#f0f921\"]], \"type\": \"histogram2dcontour\"}], \"mesh3d\": [{\"colorbar\": {\"outlinewidth\": 0, \"ticks\": \"\"}, \"type\": \"mesh3d\"}], \"parcoords\": [{\"line\": {\"colorbar\": {\"outlinewidth\": 0, \"ticks\": \"\"}}, \"type\": \"parcoords\"}], \"pie\": [{\"automargin\": true, \"type\": \"pie\"}], \"scatter\": [{\"marker\": {\"colorbar\": {\"outlinewidth\": 0, \"ticks\": \"\"}}, \"type\": \"scatter\"}], \"scatter3d\": [{\"line\": {\"colorbar\": {\"outlinewidth\": 0, \"ticks\": \"\"}}, \"marker\": {\"colorbar\": {\"outlinewidth\": 0, \"ticks\": \"\"}}, \"type\": \"scatter3d\"}], \"scattercarpet\": [{\"marker\": {\"colorbar\": {\"outlinewidth\": 0, \"ticks\": \"\"}}, \"type\": \"scattercarpet\"}], \"scattergeo\": [{\"marker\": {\"colorbar\": {\"outlinewidth\": 0, \"ticks\": \"\"}}, \"type\": \"scattergeo\"}], \"scattergl\": [{\"marker\": {\"colorbar\": {\"outlinewidth\": 0, \"ticks\": \"\"}}, \"type\": \"scattergl\"}], \"scattermapbox\": [{\"marker\": {\"colorbar\": {\"outlinewidth\": 0, \"ticks\": \"\"}}, \"type\": \"scattermapbox\"}], \"scatterpolar\": [{\"marker\": {\"colorbar\": {\"outlinewidth\": 0, \"ticks\": \"\"}}, \"type\": \"scatterpolar\"}], \"scatterpolargl\": [{\"marker\": {\"colorbar\": {\"outlinewidth\": 0, \"ticks\": \"\"}}, \"type\": \"scatterpolargl\"}], \"scatterternary\": [{\"marker\": {\"colorbar\": {\"outlinewidth\": 0, \"ticks\": \"\"}}, \"type\": \"scatterternary\"}], \"surface\": [{\"colorbar\": {\"outlinewidth\": 0, \"ticks\": \"\"}, \"colorscale\": [[0.0, \"#0d0887\"], [0.1111111111111111, \"#46039f\"], [0.2222222222222222, \"#7201a8\"], [0.3333333333333333, \"#9c179e\"], [0.4444444444444444, \"#bd3786\"], [0.5555555555555556, \"#d8576b\"], [0.6666666666666666, \"#ed7953\"], [0.7777777777777778, \"#fb9f3a\"], [0.8888888888888888, \"#fdca26\"], [1.0, \"#f0f921\"]], \"type\": \"surface\"}], \"table\": [{\"cells\": {\"fill\": {\"color\": \"#EBF0F8\"}, \"line\": {\"color\": \"white\"}}, \"header\": {\"fill\": {\"color\": \"#C8D4E3\"}, \"line\": {\"color\": \"white\"}}, \"type\": \"table\"}]}, \"layout\": {\"annotationdefaults\": {\"arrowcolor\": \"#2a3f5f\", \"arrowhead\": 0, \"arrowwidth\": 1}, \"coloraxis\": {\"colorbar\": {\"outlinewidth\": 0, \"ticks\": \"\"}}, \"colorscale\": {\"diverging\": [[0, \"#8e0152\"], [0.1, \"#c51b7d\"], [0.2, \"#de77ae\"], [0.3, \"#f1b6da\"], [0.4, \"#fde0ef\"], [0.5, \"#f7f7f7\"], [0.6, \"#e6f5d0\"], [0.7, \"#b8e186\"], [0.8, \"#7fbc41\"], [0.9, \"#4d9221\"], [1, \"#276419\"]], \"sequential\": [[0.0, \"#0d0887\"], [0.1111111111111111, \"#46039f\"], [0.2222222222222222, \"#7201a8\"], [0.3333333333333333, \"#9c179e\"], [0.4444444444444444, \"#bd3786\"], [0.5555555555555556, \"#d8576b\"], [0.6666666666666666, \"#ed7953\"], [0.7777777777777778, \"#fb9f3a\"], [0.8888888888888888, \"#fdca26\"], [1.0, \"#f0f921\"]], \"sequentialminus\": [[0.0, \"#0d0887\"], [0.1111111111111111, \"#46039f\"], [0.2222222222222222, \"#7201a8\"], [0.3333333333333333, \"#9c179e\"], [0.4444444444444444, \"#bd3786\"], [0.5555555555555556, \"#d8576b\"], [0.6666666666666666, \"#ed7953\"], [0.7777777777777778, \"#fb9f3a\"], [0.8888888888888888, \"#fdca26\"], [1.0, \"#f0f921\"]]}, \"colorway\": [\"#636efa\", \"#EF553B\", \"#00cc96\", \"#ab63fa\", \"#FFA15A\", \"#19d3f3\", \"#FF6692\", \"#B6E880\", \"#FF97FF\", \"#FECB52\"], \"font\": {\"color\": \"#2a3f5f\"}, \"geo\": {\"bgcolor\": \"white\", \"lakecolor\": \"white\", \"landcolor\": \"#E5ECF6\", \"showlakes\": true, \"showland\": true, \"subunitcolor\": \"white\"}, \"hoverlabel\": {\"align\": \"left\"}, \"hovermode\": \"closest\", \"mapbox\": {\"style\": \"light\"}, \"paper_bgcolor\": \"white\", \"plot_bgcolor\": \"#E5ECF6\", \"polar\": {\"angularaxis\": {\"gridcolor\": \"white\", \"linecolor\": \"white\", \"ticks\": \"\"}, \"bgcolor\": \"#E5ECF6\", \"radialaxis\": {\"gridcolor\": \"white\", \"linecolor\": \"white\", \"ticks\": \"\"}}, \"scene\": {\"xaxis\": {\"backgroundcolor\": \"#E5ECF6\", \"gridcolor\": \"white\", \"gridwidth\": 2, \"linecolor\": \"white\", \"showbackground\": true, \"ticks\": \"\", \"zerolinecolor\": \"white\"}, \"yaxis\": {\"backgroundcolor\": \"#E5ECF6\", \"gridcolor\": \"white\", \"gridwidth\": 2, \"linecolor\": \"white\", \"showbackground\": true, \"ticks\": \"\", \"zerolinecolor\": \"white\"}, \"zaxis\": {\"backgroundcolor\": \"#E5ECF6\", \"gridcolor\": \"white\", \"gridwidth\": 2, \"linecolor\": \"white\", \"showbackground\": true, \"ticks\": \"\", \"zerolinecolor\": \"white\"}}, \"shapedefaults\": {\"line\": {\"color\": \"#2a3f5f\"}}, \"ternary\": {\"aaxis\": {\"gridcolor\": \"white\", \"linecolor\": \"white\", \"ticks\": \"\"}, \"baxis\": {\"gridcolor\": \"white\", \"linecolor\": \"white\", \"ticks\": \"\"}, \"bgcolor\": \"#E5ECF6\", \"caxis\": {\"gridcolor\": \"white\", \"linecolor\": \"white\", \"ticks\": \"\"}}, \"title\": {\"x\": 0.05}, \"xaxis\": {\"automargin\": true, \"gridcolor\": \"white\", \"linecolor\": \"white\", \"ticks\": \"\", \"title\": {\"standoff\": 15}, \"zerolinecolor\": \"white\", \"zerolinewidth\": 2}, \"yaxis\": {\"automargin\": true, \"gridcolor\": \"white\", \"linecolor\": \"white\", \"ticks\": \"\", \"title\": {\"standoff\": 15}, \"zerolinecolor\": \"white\", \"zerolinewidth\": 2}}}, \"updatemenus\": [{\"buttons\": [{\"args\": [null, {\"frame\": {\"duration\": 500, \"redraw\": false}, \"fromcurrent\": true, \"transition\": {\"duration\": 300, \"easing\": \"quadratic-in-out\"}}], \"label\": \"Play\", \"method\": \"animate\"}, {\"args\": [[null], {\"frame\": {\"duration\": 0, \"redraw\": false}, \"mode\": \"immediate\", \"transition\": {\"duration\": 0}}], \"label\": \"Pause\", \"method\": \"animate\"}], \"direction\": \"left\", \"pad\": {\"r\": 10, \"t\": 87}, \"showactive\": false, \"type\": \"buttons\", \"x\": 0.1, \"xanchor\": \"right\", \"y\": 0, \"yanchor\": \"top\"}], \"xaxis\": {\"range\": [30, 85], \"title\": {\"text\": \"Beaten\"}}, \"yaxis\": {\"title\": {\"text\": \"Meet\"}, \"type\": \"log\"}},                        {\"responsive\": true}                    ).then(function(){\n",
       "                            Plotly.addFrames('9a7629cd-079a-4263-9212-39ba9bfd2083', [{\"data\": [{\"marker\": {\"size\": [31889, 70857, 15044, 14131, 47761, 28901], \"sizemode\": \"area\", \"sizeref\": 200}, \"mode\": \"markers\", \"name\": \"Delhi\", \"text\": [\"BKG\", \"AGD\", \"EXP\", \"OYO\", \"YTR\", \"CTP\"], \"x\": [44, 76, 64, 60, 62, 64], \"y\": [974, 29796, 1391, 1714, 944, 1091], \"type\": \"scatter\"}, {\"marker\": {\"size\": [36005, 81583, 10392, 45521, 73228], \"sizemode\": \"area\", \"sizeref\": 200}, \"mode\": \"markers\", \"name\": \"Mumbai\", \"text\": [\"BKG\", \"AGD\", \"EXP\", \"YTR\", \"CTP\"], \"x\": [76, 80, 79, 75, 73], \"y\": [5937, 36126, 33693, 7446, 10681], \"type\": \"scatter\"}, {\"marker\": {\"size\": [33333, 12420, 8078, 16391, 14326, 4369], \"sizemode\": \"area\", \"sizeref\": 200}, \"mode\": \"markers\", \"name\": \"Banglore\", \"text\": [\"BKG\", \"EXP\", \"AGD\", \"YTR\", \"CTP\", \"OYO\"], \"x\": [72, 43, 57, 51, 52, 45], \"y\": [6223, 4797, 1441, 12570, 1217, 706], \"type\": \"scatter\"}, {\"marker\": {\"size\": [40301, 9119, 19001, 33390, 16284, 44227], \"sizemode\": \"area\", \"sizeref\": 200}, \"mode\": \"markers\", \"name\": \"Agra\", \"text\": [\"BKG\", \"EXP\", \"AGD\", \"YTR\", \"CTP\", \"OYO\"], \"x\": [75, 66, 72, 81, 79, 73], \"y\": [12779, 3822, 9066, 36319, 13172, 7007], \"type\": \"scatter\"}], \"name\": \"17\"}, {\"data\": [{\"marker\": {\"size\": [25268, 65639, 13565, 12926, 45598, 25873], \"sizemode\": \"area\", \"sizeref\": 200}, \"mode\": \"markers\", \"name\": \"Delhi\", \"text\": [\"BKG\", \"AGD\", \"EXP\", \"OYO\", \"YTR\", \"CTP\"], \"x\": [42, 75, 62, 57, 60, 61], \"y\": [726, 23404, 1136, 896, 611, 1057], \"type\": \"scatter\"}, {\"marker\": {\"size\": [35085, 81483, 10311, 41654, 7661], \"sizemode\": \"area\", \"sizeref\": 200}, \"mode\": \"markers\", \"name\": \"Mumbai\", \"text\": [\"BKG\", \"AGD\", \"EXP\", \"YTR\", \"CTP\"], \"x\": [76, 79, 78, 74, 72], \"y\": [4604, 32418, 30486, 6019, 7697], \"type\": \"scatter\"}, {\"marker\": {\"size\": [31287, 10866, 7026, 16303, 12251, 4048], \"sizemode\": \"area\", \"sizeref\": 200}, \"mode\": \"markers\", \"name\": \"Banglore\", \"text\": [\"BKG\", \"EXP\", \"AGD\", \"YTR\", \"CTP\", \"OYO\"], \"x\": [71, 41, 54, 47, 51, 43], \"y\": [5288, 2773, 1373, 11004, 1038, 739], \"type\": \"scatter\"}, {\"marker\": {\"size\": [38331, 8445, 17991, 31902, 15497, 41008], \"sizemode\": \"area\", \"sizeref\": 200}, \"mode\": \"markers\", \"name\": \"Agra\", \"text\": [\"BKG\", \"EXP\", \"AGD\", \"YTR\", \"CTP\", \"OYO\"], \"x\": [74, 64, 71, 80, 78, 72], \"y\": [8798, 3413, 8131, 33329, 10779, 5755], \"type\": \"scatter\"}], \"name\": \"16\"}, {\"data\": [{\"marker\": {\"size\": [22227, 59856, 12331, 11782, 43247, 2300], \"sizemode\": \"area\", \"sizeref\": 200}, \"mode\": \"markers\", \"name\": \"Delhi\", \"text\": [\"BKG\", \"AGD\", \"EXP\", \"OYO\", \"YTR\", \"CTP\"], \"x\": [42, 74, 59, 57, 60, 59], \"y\": [635, 20292, 973, 734, 415, 1011], \"type\": \"scatter\"}, {\"marker\": {\"size\": [34280, 80698, 10158, 36070, 8066], \"sizemode\": \"area\", \"sizeref\": 200}, \"mode\": \"markers\", \"name\": \"Mumbai\", \"text\": [\"BKG\", \"AGD\", \"EXP\", \"YTR\", \"CTP\"], \"x\": [73, 78, 78, 73, 70], \"y\": [3193, 29096, 27561, 4766, 5970], \"type\": \"scatter\"}, {\"marker\": {\"size\": [29072, 98750, 6066, 15365, 10352, 3696], \"sizemode\": \"area\", \"sizeref\": 200}, \"mode\": \"markers\", \"name\": \"Banglore\", \"text\": [\"BKG\", \"EXP\", \"AGD\", \"YTR\", \"CTP\", \"OYO\"], \"x\": [69, 41, 55, 53, 50, 46], \"y\": [4797, 2277, 1233, 8647, 946, 741], \"type\": \"scatter\"}, {\"marker\": {\"size\": [36203, 7693, 16854, 30305, 14599, 37657], \"sizemode\": \"area\", \"sizeref\": 200}, \"mode\": \"markers\", \"name\": \"Agra\", \"text\": [\"BKG\", \"EXP\", \"AGD\", \"YTR\", \"CTP\", \"OYO\"], \"x\": [73, 62, 69, 79, 76, 70], \"y\": [10967, 3326, 7958, 28955, 10118, 6117], \"type\": \"scatter\"}], \"name\": \"15\"}, {\"data\": [{\"marker\": {\"size\": [16317, 52949, 11370, 10150, 40546, 2032], \"sizemode\": \"area\", \"sizeref\": 200}, \"mode\": \"markers\", \"name\": \"Delhi\", \"text\": [\"BKG\", \"AGD\", \"EXP\", \"OYO\", \"YTR\", \"CTP\"], \"x\": [42, 73, 56, 56, 59, 56], \"y\": [649, 19036, 838, 682, 347, 898], \"type\": \"scatter\"}, {\"marker\": {\"size\": [33264, 79149, 10045, 4256, 8658], \"sizemode\": \"area\", \"sizeref\": 200}, \"mode\": \"markers\", \"name\": \"Mumbai\", \"text\": [\"BKG\", \"AGD\", \"EXP\", \"YTR\", \"CTP\"], \"x\": [72, 76, 76, 72, 71], \"y\": [2497, 27042, 25576, 2547, 6303], \"type\": \"scatter\"}, {\"marker\": {\"size\": [26298, 87359, 4981, 13426, 8878, 3265], \"sizemode\": \"area\", \"sizeref\": 200}, \"mode\": \"markers\", \"name\": \"Banglore\", \"text\": [\"BKG\", \"EXP\", \"AGD\", \"YTR\", \"CTP\", \"OYO\"], \"x\": [68, 41, 54, 63, 50, 49], \"y\": [5023, 2627, 1191, 7954, 932, 748], \"type\": \"scatter\"}, {\"marker\": {\"size\": [33958, 6893, 15597, 28523, 13572, 34202], \"sizemode\": \"area\", \"sizeref\": 200}, \"mode\": \"markers\", \"name\": \"Agra\", \"text\": [\"BKG\", \"EXP\", \"AGD\", \"YTR\", \"CTP\", \"OYO\"], \"x\": [72, 60, 67, 78, 74, 68], \"y\": [9308, 2962, 6950, 26343, 7596, 5445], \"type\": \"scatter\"}], \"name\": \"14\"}, {\"data\": [{\"marker\": {\"size\": [13867, 45461, 10376, 8371, 38028, 1791], \"sizemode\": \"area\", \"sizeref\": 200}, \"mode\": \"markers\", \"name\": \"Delhi\", \"text\": [\"BKG\", \"AGD\", \"EXP\", \"OYO\", \"YTR\", \"CTP\"], \"x\": [41, 71, 53, 54, 58, 53], \"y\": [852, 18524, 752, 684, 385, 776], \"type\": \"scatter\"}, {\"marker\": {\"size\": [30753, 75789, 98702, 43389, 89719], \"sizemode\": \"area\", \"sizeref\": 200}, \"mode\": \"markers\", \"name\": \"Mumbai\", \"text\": [\"BKG\", \"AGD\", \"EXP\", \"YTR\", \"CTP\"], \"x\": [72, 75, 75, 71, 71], \"y\": [3738, 23688, 22526, 4314, 8240], \"type\": \"scatter\"}, {\"marker\": {\"size\": [23254, 78742, 4243, 11511, 7586, 2840], \"sizemode\": \"area\", \"sizeref\": 200}, \"mode\": \"markers\", \"name\": \"Banglore\", \"text\": [\"BKG\", \"EXP\", \"AGD\", \"YTR\", \"CTP\", \"OYO\"], \"x\": [66, 40, 52, 64, 50, 50], \"y\": [5681, 2430, 1226, 6206, 912, 845], \"type\": \"scatter\"}, {\"marker\": {\"size\": [31620, 6156, 14293, 26549, 12463, 30964], \"sizemode\": \"area\", \"sizeref\": 200}, \"mode\": \"markers\", \"name\": \"Agra\", \"text\": [\"BKG\", \"EXP\", \"AGD\", \"YTR\", \"CTP\", \"OYO\"], \"x\": [71, 57, 65, 77, 72, 68], \"y\": [9140, 2754, 7807, 26627, 5547, 4903], \"type\": \"scatter\"}], \"name\": \"13\"}, {\"data\": [{\"marker\": {\"size\": [12881, 37796, 93074, 7272, 34680, 15796], \"sizemode\": \"area\", \"sizeref\": 200}, \"mode\": \"markers\", \"name\": \"Delhi\", \"text\": [\"BKG\", \"AGD\", \"EXP\", \"OYO\", \"YTR\", \"CTP\"], \"x\": [40, 69, 50, 51, 58, 50], \"y\": [978, 19211, 677, 624, 424, 718], \"type\": \"scatter\"}, {\"marker\": {\"size\": [27800, 75746, 98563, 41726, 8892], \"sizemode\": \"area\", \"sizeref\": 200}, \"mode\": \"markers\", \"name\": \"Mumbai\", \"text\": [\"BKG\", \"AGD\", \"EXP\", \"YTR\", \"CTP\"], \"x\": [70, 73, 74, 71, 71], \"y\": [3630, 21597, 20980, 4127, 8224], \"type\": \"scatter\"}, {\"marker\": {\"size\": [20033, 70163, 3641, 9703, 6634, 2476], \"sizemode\": \"area\", \"sizeref\": 200}, \"mode\": \"markers\", \"name\": \"Banglore\", \"text\": [\"BKG\", \"EXP\", \"AGD\", \"YTR\", \"CTP\", \"OYO\"], \"x\": [61, 40, 51, 61, 48, 48], \"y\": [5745, 2756, 1278, 4551, 807, 957], \"type\": \"scatter\"}, {\"marker\": {\"size\": [29341, 5642, 12896, 25201, 11487, 27764], \"sizemode\": \"area\", \"sizeref\": 200}, \"mode\": \"markers\", \"name\": \"Agra\", \"text\": [\"BKG\", \"EXP\", \"AGD\", \"YTR\", \"CTP\", \"OYO\"], \"x\": [70, 54, 63, 76, 71, 67], \"y\": [8998, 3157, 7031, 22899, 5096, 4398], \"type\": \"scatter\"}], \"name\": \"12\"}, {\"data\": [{\"marker\": {\"size\": [14880, 29741, 80428, 6978, 31528, 13933], \"sizemode\": \"area\", \"sizeref\": 200}, \"mode\": \"markers\", \"name\": \"Delhi\", \"text\": [\"BKG\", \"AGD\", \"EXP\", \"OYO\", \"YTR\", \"CTP\"], \"x\": [38, 66, 47, 31, 56, 47], \"y\": [786, 19340, 660, 525, 371, 694], \"type\": \"scatter\"}, {\"marker\": {\"size\": [25090, 75684, 98218, 4086, 8797], \"sizemode\": \"area\", \"sizeref\": 200}, \"mode\": \"markers\", \"name\": \"Mumbai\", \"text\": [\"BKG\", \"AGD\", \"EXP\", \"YTR\", \"CTP\"], \"x\": [69, 72, 73, 70, 71], \"y\": [3533, 19749, 19118, 3528, 7612], \"type\": \"scatter\"}, {\"marker\": {\"size\": [17152, 61626, 3168, 7814, 5889, 2167], \"sizemode\": \"area\", \"sizeref\": 200}, \"mode\": \"markers\", \"name\": \"Banglore\", \"text\": [\"BKG\", \"EXP\", \"AGD\", \"YTR\", \"CTP\", \"OYO\"], \"x\": [58, 39, 49, 59, 46, 47], \"y\": [4910, 3008, 1029, 3215, 743, 1109], \"type\": \"scatter\"}, {\"marker\": {\"size\": [26983, 5079, 11431, 23796, 10599, 25094], \"sizemode\": \"area\", \"sizeref\": 200}, \"mode\": \"markers\", \"name\": \"Agra\", \"text\": [\"BKG\", \"EXP\", \"AGD\", \"YTR\", \"CTP\", \"OYO\"], \"x\": [68, 50, 61, 74, 67, 64], \"y\": [10079, 3548, 6660, 22091, 4757, 3816], \"type\": \"scatter\"}], \"name\": \"11\"}, {\"data\": [{\"marker\": {\"size\": [13079, 23080, 70759, 7450, 28466, 1241], \"sizemode\": \"area\", \"sizeref\": 200}, \"mode\": \"markers\", \"name\": \"Delhi\", \"text\": [\"BKG\", \"AGD\", \"EXP\", \"OYO\", \"YTR\", \"CTP\"], \"x\": [36, 63, 45, 40, 53, 44], \"y\": [739, 18269, 630, 422, 357, 675], \"type\": \"scatter\"}, {\"marker\": {\"size\": [22635, 75442, 97091, 3819, 8576], \"sizemode\": \"area\", \"sizeref\": 200}, \"mode\": \"markers\", \"name\": \"Mumbai\", \"text\": [\"BKG\", \"AGD\", \"EXP\", \"YTR\", \"CTP\"], \"x\": [68, 71, 71, 67, 71], \"y\": [3313, 16662, 16672, 2860, 6597], \"type\": \"scatter\"}, {\"marker\": {\"size\": [14760, 58948, 2761, 6193, 5433, 19272], \"sizemode\": \"area\", \"sizeref\": 200}, \"mode\": \"markers\", \"name\": \"Banglore\", \"text\": [\"BKG\", \"EXP\", \"AGD\", \"YTR\", \"CTP\", \"OYO\"], \"x\": [55, 38, 47, 56, 44, 43], \"y\": [4182, 5473, 1086, 2264, 855, 1070], \"type\": \"scatter\"}, {\"marker\": {\"size\": [24779, 4565, 100840, 22284, 9717, 22542], \"sizemode\": \"area\", \"sizeref\": 200}, \"mode\": \"markers\", \"name\": \"Agra\", \"text\": [\"BKG\", \"EXP\", \"AGD\", \"YTR\", \"CTP\", \"OYO\"], \"x\": [67, 47, 60, 73, 63, 62], \"y\": [9443, 2980, 4986, 18971, 5494, 3265], \"type\": \"scatter\"}], \"name\": \"10\"}, {\"data\": [{\"marker\": {\"size\": [11537, 202182, 62821, 6960, 25870, 11261], \"sizemode\": \"area\", \"sizeref\": 200}, \"mode\": \"markers\", \"name\": \"Delhi\", \"text\": [\"BKG\", \"AGD\", \"EXP\", \"OYO\", \"YTR\", \"CTP\"], \"x\": [34, 60, 43, 45, 49, 41], \"y\": [836, 14805, 721, 523, 349, 676], \"type\": \"scatter\"}, {\"marker\": {\"size\": [19840, 73769, 95565, 3585, 8310], \"sizemode\": \"area\", \"sizeref\": 200}, \"mode\": \"markers\", \"name\": \"Mumbai\", \"text\": [\"BKG\", \"AGD\", \"EXP\", \"YTR\", \"CTP\"], \"x\": [66, 70, 71, 65, 70], \"y\": [2760, 12835, 13149, 2172, 5577], \"type\": \"scatter\"}, {\"marker\": {\"size\": [12760, 52474, 2427, 5535, 5127, 17336], \"sizemode\": \"area\", \"sizeref\": 200}, \"mode\": \"markers\", \"name\": \"Banglore\", \"text\": [\"BKG\", \"EXP\", \"AGD\", \"YTR\", \"CTP\", \"OYO\"], \"x\": [51, 36, 45, 53, 41, 41], \"y\": [3246, 5522, 1036, 1215, 795, 1136], \"type\": \"scatter\"}, {\"marker\": {\"size\": [22934, 4040, 88049, 20819, 8858, 19764], \"sizemode\": \"area\", \"sizeref\": 200}, \"mode\": \"markers\", \"name\": \"Agra\", \"text\": [\"BKG\", \"EXP\", \"AGD\", \"YTR\", \"CTP\", \"OYO\"], \"x\": [66, 45, 58, 72, 61, 60], \"y\": [8053, 2587, 3430, 16077, 5107, 2679], \"type\": \"scatter\"}], \"name\": \"09\"}, {\"data\": [{\"marker\": {\"size\": [10267, 171863, 56839, 6083, 23634, 10332], \"sizemode\": \"area\", \"sizeref\": 200}, \"mode\": \"markers\", \"name\": \"Delhi\", \"text\": [\"BKG\", \"AGD\", \"EXP\", \"OYO\", \"YTR\", \"CTP\"], \"x\": [32, 57, 41, 43, 45, 39], \"y\": [853, 12753, 686, 497, 388, 652], \"type\": \"scatter\"}, {\"marker\": {\"size\": [17280, 71290, 92184, 3349, 8012], \"sizemode\": \"area\", \"sizeref\": 200}, \"mode\": \"markers\", \"name\": \"Mumbai\", \"text\": [\"BKG\", \"AGD\", \"EXP\", \"YTR\", \"CTP\"], \"x\": [65, 70, 70, 62, 70], \"y\": [2312, 10751, 10991, 1710, 4254], \"type\": \"scatter\"}, {\"marker\": {\"size\": [11000, 48260, 2151, 5127, 4919, 15234], \"sizemode\": \"area\", \"sizeref\": 200}, \"mode\": \"markers\", \"name\": \"Banglore\", \"text\": [\"BKG\", \"EXP\", \"AGD\", \"YTR\", \"CTP\", \"OYO\"], \"x\": [48, 34, 43, 52, 38, 39], \"y\": [2550, 4269, 949, 984, 723, 1193], \"type\": \"scatter\"}, {\"marker\": {\"size\": [21283, 3593, 76039, 18985, 7961, 17009], \"sizemode\": \"area\", \"sizeref\": 200}, \"mode\": \"markers\", \"name\": \"Agra\", \"text\": [\"BKG\", \"EXP\", \"AGD\", \"YTR\", \"CTP\", \"OYO\"], \"x\": [65, 43, 56, 71, 58, 58], \"y\": [7133, 2181, 3337, 13462, 4519, 2492], \"type\": \"scatter\"}], \"name\": \"08\"}, {\"data\": [{\"marker\": {\"size\": [8425, 12044, 46886, 4693, 20092, 91825], \"sizemode\": \"area\", \"sizeref\": 200}, \"mode\": \"markers\", \"name\": \"Delhi\", \"text\": [\"BKG\", \"AGD\", \"EXP\", \"OYO\", \"YTR\", \"CTP\"], \"x\": [29, 51, 37, 39, 36, 36], \"y\": [779, 9867, 684, 368, 331, 546], \"type\": \"scatter\"}, {\"marker\": {\"size\": [12826, 6927, 87304, 2791, 7274], \"sizemode\": \"area\", \"sizeref\": 200}, \"mode\": \"markers\", \"name\": \"Mumbai\", \"text\": [\"BKG\", \"AGD\", \"EXP\", \"YTR\", \"CTP\"], \"x\": [55, 67, 68, 54, 60], \"y\": [1601, 6137, 8343, 974, 2444], \"type\": \"scatter\"}, {\"marker\": {\"size\": [92795, 42320, 17383, 4423, 4469, 1291], \"sizemode\": \"area\", \"sizeref\": 200}, \"mode\": \"markers\", \"name\": \"Banglore\", \"text\": [\"BKG\", \"EXP\", \"AGD\", \"YTR\", \"CTP\", \"OYO\"], \"x\": [43, 30, 38, 48, 32, 35], \"y\": [2449, 3520, 1063, 851, 543, 1071], \"type\": \"scatter\"}, {\"marker\": {\"size\": [17876, 2883, 56602, 14785, 6377, 12350], \"sizemode\": \"area\", \"sizeref\": 200}, \"mode\": \"markers\", \"name\": \"Agra\", \"text\": [\"BKG\", \"EXP\", \"AGD\", \"YTR\", \"CTP\", \"OYO\"], \"x\": [62, 40, 51, 69, 55, 51], \"y\": [5911, 2677, 2109, 11367, 3940, 2144], \"type\": \"scatter\"}], \"name\": \"07\"}]);\n",
       "                        }).then(function(){\n",
       "                            \n",
       "var gd = document.getElementById('9a7629cd-079a-4263-9212-39ba9bfd2083');\n",
       "var x = new MutationObserver(function (mutations, observer) {{\n",
       "        var display = window.getComputedStyle(gd).display;\n",
       "        if (!display || display === 'none') {{\n",
       "            console.log([gd, 'removed!']);\n",
       "            Plotly.purge(gd);\n",
       "            observer.disconnect();\n",
       "        }}\n",
       "}});\n",
       "\n",
       "// Listen for the removal of the full notebook cells\n",
       "var notebookContainer = gd.closest('#notebook-container');\n",
       "if (notebookContainer) {{\n",
       "    x.observe(notebookContainer, {childList: true});\n",
       "}}\n",
       "\n",
       "// Listen for the clearing of the current output cell\n",
       "var outputEl = gd.closest('.output');\n",
       "if (outputEl) {{\n",
       "    x.observe(outputEl, {childList: true});\n",
       "}}\n",
       "\n",
       "                        })                };                });            </script>        </div>"
      ]
     },
     "metadata": {},
     "output_type": "display_data"
    }
   ],
   "source": [
    "import plotly.graph_objects as go\n",
    "import pandas as pd\n",
    "\n",
    "#url = \"https://github.com/mustajabakhtar/manha/blob/master/data_set.csv\"\n",
    "dataset = pd.read_csv('../data/graph.csv')\n",
    "#dataset = pd.read_csv(url)\n",
    "\n",
    "days = [\"17\", \"16\", \"15\", \"14\", \"13\", \"12\", \"11\", \"10\", \"09\", \"08\", \"07\"]\n",
    "\n",
    "# make list of cities\n",
    "cities = []\n",
    "for city in dataset[\"city\"]:\n",
    "    if city not in cities:\n",
    "        cities.append(city)\n",
    "# make figure\n",
    "fig_dict = {\n",
    "    \"data\": [],\n",
    "    \"layout\": {},\n",
    "    \"frames\": []\n",
    "}\n",
    "\n",
    "# fill in most of layout\n",
    "fig_dict[\"layout\"][\"xaxis\"] = {\"range\": [30, 85], \"title\": \"Beaten\"}\n",
    "fig_dict[\"layout\"][\"yaxis\"] = {\"title\": \"Meet\", \"type\": \"log\"}\n",
    "fig_dict[\"layout\"][\"hovermode\"] = \"closest\"\n",
    "fig_dict[\"layout\"][\"updatemenus\"] = [\n",
    "    {\n",
    "        \"buttons\": [\n",
    "            {\n",
    "                \"args\": [None, {\"frame\": {\"duration\": 500, \"redraw\": False},\n",
    "                                \"fromcurrent\": True, \"transition\": {\"duration\": 300,\n",
    "                                                                    \"easing\": \"quadratic-in-out\"}}],\n",
    "                \"label\": \"Play\",\n",
    "                \"method\": \"animate\"\n",
    "            },\n",
    "            {\n",
    "                \"args\": [[None], {\"frame\": {\"duration\": 0, \"redraw\": False},\n",
    "                                  \"mode\": \"immediate\",\n",
    "                                  \"transition\": {\"duration\": 0}}],\n",
    "                \"label\": \"Pause\",\n",
    "                \"method\": \"animate\"\n",
    "            }\n",
    "        ],\n",
    "        \"direction\": \"left\",\n",
    "        \"pad\": {\"r\": 10, \"t\": 87},\n",
    "        \"showactive\": False,\n",
    "        \"type\": \"buttons\",\n",
    "        \"x\": 0.1,\n",
    "        \"xanchor\": \"right\",\n",
    "        \"y\": 0,\n",
    "        \"yanchor\": \"top\"\n",
    "    }\n",
    "]\n",
    "\n",
    "sliders_dict = {\n",
    "    \"active\": 0,\n",
    "    \"yanchor\": \"top\",\n",
    "    \"xanchor\": \"left\",\n",
    "    \"currentvalue\": {\n",
    "        \"font\": {\"size\": 20},\n",
    "        \"prefix\": \"Date:\",\n",
    "        \"visible\": True,\n",
    "        \"xanchor\": \"right\"\n",
    "    },\n",
    "    \"transition\": {\"duration\": 300, \"easing\": \"cubic-in-out\"},\n",
    "    \"pad\": {\"b\": 10, \"t\": 50},\n",
    "    \"len\": 0.9,\n",
    "    \"x\": 0.1,\n",
    "    \"y\": 0,\n",
    "    \"steps\": []\n",
    "}\n",
    "\n",
    "# make data\n",
    "day = 7\n",
    "for city in cities:\n",
    "    dataset_by_day = dataset[dataset[\"day\"] == day]\n",
    "    dataset_by_day_and_cont = dataset_by_day[\n",
    "        dataset_by_day[\"city\"] == city]\n",
    "\n",
    "    data_dict = {\n",
    "        \"x\": list(dataset_by_day_and_cont[\"beaten\"]),\n",
    "        \"y\": list(dataset_by_day_and_cont[\"total\"]),\n",
    "        \"mode\": \"markers\",\n",
    "        \"text\": list(dataset_by_day_and_cont[\"vendor\"]),\n",
    "        \"marker\": {\n",
    "            \"sizemode\": \"area\",\n",
    "            \"sizeref\": 200,\n",
    "            \"size\": list(dataset_by_day_and_cont[\"hotels\"])\n",
    "        },\n",
    "        \"name\": city\n",
    "    }\n",
    "    fig_dict[\"data\"].append(data_dict)\n",
    "\n",
    "# make frames\n",
    "for day in days:\n",
    "    frame = {\"data\": [], \"name\": str(day)}\n",
    "    for city in cities:\n",
    "        dataset_by_day = dataset[dataset[\"day\"] == int(day)]\n",
    "        dataset_by_day_and_cont = dataset_by_day[\n",
    "            dataset_by_day[\"city\"] == city]\n",
    "\n",
    "        data_dict = {\n",
    "            \"x\": list(dataset_by_day_and_cont[\"beaten\"]),\n",
    "            \"y\": list(dataset_by_day_and_cont[\"total\"]),\n",
    "            \"mode\": \"markers\",\n",
    "            \"text\": list(dataset_by_day_and_cont[\"vendor\"]),\n",
    "            \"marker\": {\n",
    "                \"sizemode\": \"area\",\n",
    "                \"sizeref\": 200,\n",
    "                \"size\": list(dataset_by_day_and_cont[\"hotels\"])\n",
    "            },\n",
    "            \"name\": city\n",
    "        }\n",
    "        frame[\"data\"].append(data_dict)\n",
    "\n",
    "    fig_dict[\"frames\"].append(frame)\n",
    "    slider_step = {\"args\": [\n",
    "        [day],\n",
    "        {\"frame\": {\"duration\": 300, \"redraw\": False},\n",
    "         \"mode\": \"immediate\",\n",
    "         \"transition\": {\"duration\": 300}}\n",
    "    ],\n",
    "        \"label\": day,\n",
    "        \"method\": \"animate\"}\n",
    "    sliders_dict[\"steps\"].append(slider_step)\n",
    "\n",
    "fig_dict[\"layout\"][\"sliders\"] = [sliders_dict]\n",
    "\n",
    "fig = go.Figure(fig_dict)\n",
    "\n",
    "fig.show()\n"
   ]
  },
  {
   "cell_type": "code",
   "execution_count": null,
   "metadata": {},
   "outputs": [],
   "source": []
  }
 ],
 "metadata": {
  "kernelspec": {
   "display_name": "Python 3",
   "language": "python",
   "name": "python3"
  },
  "language_info": {
   "codemirror_mode": {
    "name": "ipython",
    "version": 3
   },
   "file_extension": ".py",
   "mimetype": "text/x-python",
   "name": "python",
   "nbconvert_exporter": "python",
   "pygments_lexer": "ipython3",
   "version": "3.7.3"
  },
  "widgets": {
   "application/vnd.jupyter.widget-state+json": {
    "state": {},
    "version_major": 2,
    "version_minor": 0
   }
  }
 },
 "nbformat": 4,
 "nbformat_minor": 2
}
